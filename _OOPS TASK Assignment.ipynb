{
 "cells": [
  {
   "cell_type": "markdown",
   "id": "670ba5e7-fbb7-46f3-89bc-34108de59f47",
   "metadata": {},
   "source": [
    "# Q1. Create a vehicle class with an init method having instance variables as name_of_vehicle, max_speed and average_of_vehicle."
   ]
  },
  {
   "cell_type": "code",
   "execution_count": 4,
   "id": "8f863afd-73a7-429a-901f-0c7154fbab76",
   "metadata": {},
   "outputs": [],
   "source": [
    "# Ans: 1\n",
    "\n",
    "class vehicle: \n",
    "    def __init__(self, name_of_vehicle , max_speed , average_of_vehicle):\n",
    "        self.name_of_vehicle = name_of_vehicle\n",
    "        self.max_speed = max_speed\n",
    "        self.average_of_vehicle = average_of_vehicle\n",
    "        \n",
    "my_car = vehicle('hundai',199,12)"
   ]
  },
  {
   "cell_type": "code",
   "execution_count": 5,
   "id": "79af7d8c-7f82-4c29-b491-640089647408",
   "metadata": {},
   "outputs": [
    {
     "data": {
      "text/plain": [
       "'hundai'"
      ]
     },
     "execution_count": 5,
     "metadata": {},
     "output_type": "execute_result"
    }
   ],
   "source": [
    "my_car.name_of_vehicle"
   ]
  },
  {
   "cell_type": "code",
   "execution_count": 6,
   "id": "fa268ffe-2905-465f-aa48-13b3e197bd05",
   "metadata": {},
   "outputs": [
    {
     "data": {
      "text/plain": [
       "199"
      ]
     },
     "execution_count": 6,
     "metadata": {},
     "output_type": "execute_result"
    }
   ],
   "source": [
    "my_car.max_speed"
   ]
  },
  {
   "cell_type": "code",
   "execution_count": 7,
   "id": "b67401fb-a0a7-42c0-9a9d-0494289c87ed",
   "metadata": {},
   "outputs": [
    {
     "data": {
      "text/plain": [
       "12"
      ]
     },
     "execution_count": 7,
     "metadata": {},
     "output_type": "execute_result"
    }
   ],
   "source": [
    "my_car.average_of_vehicle"
   ]
  },
  {
   "cell_type": "code",
   "execution_count": null,
   "id": "c1567673-8b41-4ab7-8aa3-6d547a097bec",
   "metadata": {},
   "outputs": [],
   "source": []
  },
  {
   "cell_type": "markdown",
   "id": "955e3fd1-6073-4f59-8d9e-a8d4ad4eb65e",
   "metadata": {},
   "source": [
    "# Q2. Create a child class car from the vehicle class created in Que 1, which will inherit the vehicle class. Create a method named seating_capacity which takes capacity as an argument and returns the name of the vehicle and its seating capacity."
   ]
  },
  {
   "cell_type": "code",
   "execution_count": 9,
   "id": "72406029-4a3c-4142-9461-c71b0e8eb11f",
   "metadata": {},
   "outputs": [
    {
     "name": "stdout",
     "output_type": "stream",
     "text": [
      "Scorpio N has a seating capacity of 7 people.\n"
     ]
    }
   ],
   "source": [
    "#Ans: 2\n",
    "\n",
    "class vehicle: \n",
    "    def __init__(self, name_of_vehicle , max_speed , average_of_vehicle):\n",
    "        self.name_of_vehicle = name_of_vehicle\n",
    "        self.max_speed = max_speed\n",
    "        self.average_of_vehicle = average_of_vehicle\n",
    "\n",
    "class car(vehicle) :\n",
    "    def __init__(self, name_of_vehicle, max_speed, average_of_vehicle):\n",
    "        super().__init__(name_of_vehicle, max_speed, average_of_vehicle)\n",
    "        \n",
    "        \n",
    "    def seating_capacity(self, capacity) :\n",
    "        return f\"{self.name_of_vehicle} has a seating capacity of {capacity} people.\"\n",
    "    \n",
    "my_car = car('Scorpio N', 220, 50)\n",
    "print(my_car.seating_capacity(7))"
   ]
  },
  {
   "cell_type": "code",
   "execution_count": null,
   "id": "db775c5a-1fe7-4ddb-bf10-5501fc954796",
   "metadata": {},
   "outputs": [],
   "source": []
  },
  {
   "cell_type": "markdown",
   "id": "f4455db5-cb05-46d5-9253-b61a3fddab97",
   "metadata": {},
   "source": [
    "# Q3. What is multiple inheritance? Write a python code to demonstrate multiple inheritance"
   ]
  },
  {
   "cell_type": "code",
   "execution_count": 10,
   "id": "3a18c0ae-f33b-4af4-a838-42d438350c4c",
   "metadata": {},
   "outputs": [],
   "source": [
    "#Ans: 3\n",
    "\n",
    "class Person :\n",
    "    def __init__(self, name, age) :\n",
    "        self.name = name\n",
    "        self.age = age\n",
    "        \n",
    "    def say_Hey(self) :\n",
    "        print(f\"Hey, my name is {self.name} and I am {self.age} year old.\")\n",
    "        \n",
    "        \n",
    "class Student:\n",
    "    def __init__(self, school_name, student_id):\n",
    "        self.school_name = school_name\n",
    "        self.student_id = student_id\n",
    "        \n",
    "        \n",
    "    def display_info(self):\n",
    "        print(f\"I am a student at {self.school_name} with student ID {self.student_id} .\")\n",
    "        \n",
    "        \n",
    "        \n",
    "class pwskills_student(Person, Student):\n",
    "    def __init__(self, name, age, school_name, student_id, pwskills):\n",
    "        Person.__init__(self, name, age)\n",
    "        Student.__init__(self, school_name, student_id)\n",
    "        self.pwskills = pwskills\n",
    "        \n",
    "    def display_pwskills(self):\n",
    "        print(f\"I have the following PWskills: {self.pwskills} .\")\n",
    "        "
   ]
  },
  {
   "cell_type": "code",
   "execution_count": 11,
   "id": "8b4f4173-316e-49d7-9953-a64eb30f6c02",
   "metadata": {},
   "outputs": [
    {
     "name": "stdout",
     "output_type": "stream",
     "text": [
      "Hey, my name is krishna kumar and I am 22 year old.\n",
      "I am a student at Maharaja ganga singh university with student ID 12345 .\n",
      "I have the following PWskills: ['data science masters 2.0'] .\n"
     ]
    }
   ],
   "source": [
    "student = pwskills_student(\"krishna kumar\", 22, \"Maharaja ganga singh university\", \"12345\", [\"data science masters 2.0\"])\n",
    "student.say_Hey()\n",
    "student.display_info()\n",
    "student.display_pwskills()"
   ]
  },
  {
   "cell_type": "code",
   "execution_count": null,
   "id": "afbb83b2-c30e-4cf4-b608-3fb68d3f4444",
   "metadata": {},
   "outputs": [],
   "source": []
  },
  {
   "cell_type": "markdown",
   "id": "dec99855-2891-42c2-81d0-d6ca8d819362",
   "metadata": {},
   "source": [
    "# Q4. What are getter and setter in python? Create a class and create a getter and a setter method in this class."
   ]
  },
  {
   "cell_type": "markdown",
   "id": "148089a1-7802-49f3-8455-334492c0becf",
   "metadata": {},
   "source": [
    "# Ans: 4\n",
    "\n",
    "\n",
    "\n",
    "getters and setters are methods that allow you to retrieve and modify the values of an object's attributes. Getters retrieve the value of an attribute, while setters modify the value of an attribute."
   ]
  },
  {
   "cell_type": "code",
   "execution_count": 24,
   "id": "8fd6bae6-026e-435e-9a39-cf8150cda937",
   "metadata": {},
   "outputs": [
    {
     "name": "stdout",
     "output_type": "stream",
     "text": [
      "krishna kumar\n",
      "sudhanshu sir\n"
     ]
    }
   ],
   "source": [
    "class Person :\n",
    "    def __init__(self, name):\n",
    "        self.name = name\n",
    "        \n",
    "    def get_name(self):\n",
    "        return self.name\n",
    "    \n",
    "    def set_name(self, new_name):\n",
    "        self.name = new_name\n",
    "        \n",
    "person = Person(\"krishna kumar\")\n",
    "print(person.get_name())  \n",
    "\n",
    "person.set_name(\"sudhanshu sir\")\n",
    "print(person.get_name())  "
   ]
  },
  {
   "cell_type": "code",
   "execution_count": null,
   "id": "f68662c0-4158-4767-88e5-9382dddac369",
   "metadata": {},
   "outputs": [],
   "source": []
  },
  {
   "cell_type": "markdown",
   "id": "309d1abc-d941-42b1-99be-305127a21bef",
   "metadata": {},
   "source": [
    "# Q5.What is method overriding in python? Write a python code to demonstrate method overriding."
   ]
  },
  {
   "cell_type": "markdown",
   "id": "94c296ac-277b-4e1d-b692-50de15aaaa73",
   "metadata": {},
   "source": [
    "# Ans: 5\n",
    "\n",
    "\n",
    "Method overriding in Python is a feature of object-oriented programming that allows a child class to provide its own implementation of a method that is already defined in its parent class. When a child class overrides a method, it provides its own implementation that is used in place of the parent class's implementation when the method is called on an object of the child class.\n",
    "\n",
    "To override a method in Python, the child class defines a method with the same name as the method in the parent class. The child class's method should have the same number and type of arguments as the parent class's method, but can have a different implementation."
   ]
  },
  {
   "cell_type": "code",
   "execution_count": 25,
   "id": "ed49a440-68eb-478a-a093-c11e84ad028f",
   "metadata": {},
   "outputs": [],
   "source": [
    "#Here is a code for demonstrates method overriding:\n",
    "\n",
    "class Vehicle:\n",
    "    def __init__(self, name):\n",
    "        self.name = name\n",
    "        \n",
    "    def start(self):\n",
    "        print(f\"{self.name} is staring with start pu button...\")\n",
    "        \n",
    "\n",
    "class Car(Vehicle):\n",
    "    def start(self):\n",
    "        print(f\"{self.name} is staring with a keyy...\")\n",
    "        \n",
    "\n",
    "        \n",
    "class Bike(Vehicle):\n",
    "    def start(self):\n",
    "        print(f\"{self.name} is starting with a kick...\")\n",
    "        "
   ]
  },
  {
   "cell_type": "code",
   "execution_count": 26,
   "id": "1910eaa9-205c-4331-8ff4-3e53b7955c94",
   "metadata": {},
   "outputs": [
    {
     "name": "stdout",
     "output_type": "stream",
     "text": [
      "Indian Vehicle is staring with start pu button...\n",
      "Farrari is staring with a keyy...\n",
      "Harley Davidson is starting with a kick...\n"
     ]
    }
   ],
   "source": [
    "vehicle = Vehicle(\"Indian Vehicle\")\n",
    "\n",
    "car = Car(\"Farrari\")\n",
    "\n",
    "bike = Bike('Harley Davidson')\n",
    "\n",
    "\n",
    "\n",
    "\n",
    "vehicle.start()\n",
    "car.start()\n",
    "bike.start()"
   ]
  },
  {
   "cell_type": "code",
   "execution_count": null,
   "id": "35952774-96ab-49e9-a01d-1b68b2b54596",
   "metadata": {},
   "outputs": [],
   "source": []
  }
 ],
 "metadata": {
  "kernelspec": {
   "display_name": "Python 3 (ipykernel)",
   "language": "python",
   "name": "python3"
  },
  "language_info": {
   "codemirror_mode": {
    "name": "ipython",
    "version": 3
   },
   "file_extension": ".py",
   "mimetype": "text/x-python",
   "name": "python",
   "nbconvert_exporter": "python",
   "pygments_lexer": "ipython3",
   "version": "3.10.8"
  }
 },
 "nbformat": 4,
 "nbformat_minor": 5
}
